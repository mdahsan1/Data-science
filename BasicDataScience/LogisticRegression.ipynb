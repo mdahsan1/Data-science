{
 "cells": [
  {
   "cell_type": "code",
   "execution_count": 1,
   "id": "8e052e10-c35e-4b47-af82-63038d4af687",
   "metadata": {},
   "outputs": [],
   "source": [
    "#basic or common Modules import\n",
    "import numpy as np\n",
    "import pandas as pd\n",
    "import matplotlib.pyplot as plt\n",
    "%matplotlib inline"
   ]
  },
  {
   "cell_type": "code",
   "execution_count": 10,
   "id": "d564f06f-38f8-4c7c-90aa-a8f1ba6f1a26",
   "metadata": {},
   "outputs": [],
   "source": [
    "#Models related modules import\n",
    "from sklearn.linear_model import LogisticRegression\n",
    "from sklearn.preprocessing import StandardScaler\n",
    "\n",
    "from sklearn import metrics\n",
    "from sklearn import datasets\n",
    "\n",
    "from sklearn.model_selection import train_test_split\n"
   ]
  },
  {
   "cell_type": "code",
   "execution_count": 12,
   "id": "05d850a7-c34b-465e-9716-a26d29d8c718",
   "metadata": {},
   "outputs": [],
   "source": [
    "#loading the Datasets from API\n",
    "datasets = datasets.load_iris()\n"
   ]
  },
  {
   "cell_type": "code",
   "execution_count": 13,
   "id": "a6a59186-eaf4-4e34-96b3-deb2b4adf416",
   "metadata": {},
   "outputs": [],
   "source": [
    "X_datasets = datasets.data[:, [0,2]]\n",
    "Y_datasets = datasets.target\n",
    "datasets_columns = datasets.target_names\n"
   ]
  },
  {
   "cell_type": "code",
   "execution_count": 16,
   "id": "b7bd2385-d441-482c-90ca-232cc3d4b8a2",
   "metadata": {},
   "outputs": [
    {
     "name": "stdout",
     "output_type": "stream",
     "text": [
      "Independent Datasets : [5.1 1.4]\n",
      "Dependet datasets : [0 0 0 0 0 0 0 0 0 0 0 0 0 0 0 0 0 0 0 0 0 0 0 0 0 0 0 0 0 0 0 0 0 0 0 0 0\n",
      " 0 0 0 0 0 0 0 0 0 0 0 0 0 1 1 1 1 1 1 1 1 1 1 1 1 1 1 1 1 1 1 1 1 1 1 1 1\n",
      " 1 1 1 1 1 1 1 1 1 1 1 1 1 1 1 1 1 1 1 1 1 1 1 1 1 1 2 2 2 2 2 2 2 2 2 2 2\n",
      " 2 2 2 2 2 2 2 2 2 2 2 2 2 2 2 2 2 2 2 2 2 2 2 2 2 2 2 2 2 2 2 2 2 2 2 2 2\n",
      " 2 2]\n",
      "class Names of the Datasets: ['setosa' 'versicolor' 'virginica']\n"
     ]
    }
   ],
   "source": [
    "print(\"Independent Datasets :\", X_datasets[0])\n",
    "print(\"Dependet datasets :\", Y_datasets)\n",
    "print (\"class Names of the Datasets:\", datasets_columns)\n"
   ]
  },
  {
   "cell_type": "code",
   "execution_count": 18,
   "id": "21245100-1d4e-4c1f-a0ba-bff789baf2d7",
   "metadata": {},
   "outputs": [],
   "source": [
    "X_train, X_test, Y_train, Y_test = train_test_split(X_datasets,\n",
    "                                                    Y_datasets,\n",
    "                                                    test_size = 0.20,\n",
    "                                                    random_state = 1,\n",
    "                                                    stratify = Y_datasets)\n"
   ]
  },
  {
   "cell_type": "code",
   "execution_count": 20,
   "id": "32c8ee1c-9d2b-4ef9-b4dd-fe9a49c89b9f",
   "metadata": {},
   "outputs": [
    {
     "data": {
      "text/plain": [
       "StandardScaler()"
      ]
     },
     "execution_count": 20,
     "metadata": {},
     "output_type": "execute_result"
    }
   ],
   "source": [
    "scalling = StandardScaler()\n",
    "scalling.fit(X_train)"
   ]
  },
  {
   "cell_type": "code",
   "execution_count": 22,
   "id": "f8ac947d-7383-4dc7-bd65-3cbc8a445688",
   "metadata": {},
   "outputs": [],
   "source": [
    "Standard_Scaling_for_X_train_datasets = scalling.transform(X_train)\n",
    "Standard_Scaling_for_X_test_datasets = scalling.transform(X_test)"
   ]
  },
  {
   "cell_type": "code",
   "execution_count": 27,
   "id": "148f7e59-4df3-45bf-9961-6646095d775e",
   "metadata": {},
   "outputs": [],
   "source": [
    "#Model calling\n",
    "# lbfgs --> Limited momery Broden Dletchr Goldfarb shanno\n",
    "\n",
    "logistic_Regression_model = LogisticRegression(C=100.0,\n",
    "                                               random_state = 1,\n",
    "                                               solver = 'lbfgs',\n",
    "                                               multi_class = 'ovr'\n",
    "                                              )"
   ]
  },
  {
   "cell_type": "code",
   "execution_count": 32,
   "id": "d89ecb3e-1555-4477-9dab-ae54310c2a2c",
   "metadata": {},
   "outputs": [
    {
     "data": {
      "text/plain": [
       "LogisticRegression(C=100.0, multi_class='ovr', random_state=1)"
      ]
     },
     "execution_count": 32,
     "metadata": {},
     "output_type": "execute_result"
    }
   ],
   "source": [
    "logistic_Regression_model.fit(Standard_Scaling_for_X_train_datasets, Y_train)"
   ]
  },
  {
   "cell_type": "code",
   "execution_count": 35,
   "id": "5a12f98c-a4e4-4732-bff5-927541507f53",
   "metadata": {},
   "outputs": [],
   "source": [
    "model_predict_results = logistic_Regression_model.predict(Standard_Scaling_for_X_test_datasets)"
   ]
  },
  {
   "cell_type": "code",
   "execution_count": 37,
   "id": "40dec408-9635-45e6-b410-d34592658333",
   "metadata": {},
   "outputs": [
    {
     "name": "stdout",
     "output_type": "stream",
     "text": [
      "Prediction Results on the IRIS datasets is : 0.967\n"
     ]
    }
   ],
   "source": [
    "print(\"Prediction Results on the IRIS datasets is : %.3f\"%metrics.accuracy_score(Y_test, model_predict_results))"
   ]
  },
  {
   "cell_type": "code",
   "execution_count": null,
   "id": "606b2356-c2e5-4c66-85a9-683f67c737af",
   "metadata": {},
   "outputs": [],
   "source": [
    "#Ypredict = model.predict(X_test)\n",
    "#metrics.accuracy_scope(Ytest, ypredict)\n"
   ]
  }
 ],
 "metadata": {
  "kernelspec": {
   "display_name": "Python 3 (ipykernel)",
   "language": "python",
   "name": "python3"
  },
  "language_info": {
   "codemirror_mode": {
    "name": "ipython",
    "version": 3
   },
   "file_extension": ".py",
   "mimetype": "text/x-python",
   "name": "python",
   "nbconvert_exporter": "python",
   "pygments_lexer": "ipython3",
   "version": "3.7.13"
  }
 },
 "nbformat": 4,
 "nbformat_minor": 5
}
